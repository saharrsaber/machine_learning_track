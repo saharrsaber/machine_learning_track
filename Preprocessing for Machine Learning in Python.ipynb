{
 "cells": [
  {
   "cell_type": "markdown",
   "metadata": {},
   "source": [
    "# Preprocessing for Machine Learning in Python\n",
    "\n",
    "It's the 8th course in [DataCamp Machine Learning in Python Track](https://learn.datacamp.com/career-tracks/machine-learning-scientist-with-python?version=1). Sarah Guido is the instructor. She is a Senior Data Scientist at InVision\n",
    "\n",
    "the first part of this notebook contains the main Algorithms I learned from [the course](https://learn.datacamp.com/courses/preprocessing-for-machine-learning-in-python).  The second is how I implemented these algorithms into RealWorld Datasets\n",
    " \n",
    "## Part 1: Main Algorithms\n",
    "### Ch1. Introduction to Data Preprocessing\n",
    "\n",
    "train_test_split(stratify =y)\n",
    "\n",
    "### Ch2. Standardizing Data\n",
    "\n",
    "\n",
    "\n",
    "### Ch3. Feature Engineering -> Creating new cols that hold valuable information from exciting ones\n",
    "#### Categorical Encoder\n",
    "preprocessing.LabelEncoder -> fit_transform\n",
    "#### Regular Expression\n",
    "import re -> regular expression\n",
    "pattern = re.compile('\\d+')\n",
    "student_id = re.match(pattern, email)\n",
    "float(student_id.group(0)) ----------> to extract it\n",
    "#### tf-idf \n",
    "tf-idf -> vectorizing text for NLP \n",
    "Term Frequency - Inverse Document Frequency\n",
    "from sklearn.feature_extraction.text import TfidfVectorizer ->fit_transform\n",
    "\n",
    "### Ch4. Selecting features for modeling -> Select only valuable cols, drop messy noisy non-valuable data\n",
    "1. remove cols that conatins high percentages of NA\n",
    "2. remove cols with low variance (VarianceThershold)\n",
    "3. Pairwise correlation but take care of anscombe's quartet!!\n",
    "\n"
   ]
  }
 ],
 "metadata": {
  "kernelspec": {
   "display_name": "Python 3",
   "language": "python",
   "name": "python3"
  },
  "language_info": {
   "codemirror_mode": {
    "name": "ipython",
    "version": 3
   },
   "file_extension": ".py",
   "mimetype": "text/x-python",
   "name": "python",
   "nbconvert_exporter": "python",
   "pygments_lexer": "ipython3",
   "version": "3.7.6"
  }
 },
 "nbformat": 4,
 "nbformat_minor": 4
}
